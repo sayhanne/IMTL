{
 "nbformat": 4,
 "nbformat_minor": 0,
 "metadata": {
  "colab": {
   "provenance": []
  },
  "kernelspec": {
   "name": "python3",
   "display_name": "Python 3 (ipykernel)",
   "language": "python"
  },
  "language_info": {
   "name": "python"
  }
 },
 "cells": [
  {
   "metadata": {
    "ExecuteTime": {
     "end_time": "2025-01-13T13:31:14.560295Z",
     "start_time": "2025-01-13T13:31:14.395790Z"
    }
   },
   "cell_type": "code",
   "source": [
    "import matplotlib.pyplot as plt\n",
    "import matplotlib as mpl\n",
    "import numpy as np\n",
    "import os\n",
    "mpl.rcParams['savefig.dpi'] = 200"
   ],
   "execution_count": 1,
   "outputs": []
  },
  {
   "metadata": {
    "ExecuteTime": {
     "end_time": "2025-01-13T13:31:14.564586Z",
     "start_time": "2025-01-13T13:31:14.561493Z"
    }
   },
   "cell_type": "code",
   "source": [
    "pre_train = 10\n",
    "epoch = 3000\n",
    "path = 'results/training/'\n",
    "tasks = ['Push', 'Hit', 'Stack']\n",
    "task_order = ['-012', '-021', '-102', '-120', '-201', '-210']\n",
    "task_order_names = ['Push-Hit-Stack', 'Push-Stack-Hit', 'Hit-Push-Stack',\n",
    "                    'Hit-Stack-Push','Stack-Push-Hit','Stack-Hit-Push']\n",
    "\n",
    "model_colors = {'singletask': 'green', 'imtl-rand': 'orange', \n",
    "                'imtl-lp': 'blue', 'imtl-lpe-0.1': 'gold',\n",
    "                'imtl-lpe-1': 'purple', 'imtl-lpe-10': 'hotpink',\n",
    "                'blocked': 'saddlebrown'}\n",
    "models = ['imtl-rand', 'imtl-lp', 'blocked']\n",
    "plot_subpath = \"plotresults/blockedvsimtl\""
   ],
   "execution_count": 2,
   "outputs": []
  },
  {
   "metadata": {
    "ExecuteTime": {
     "end_time": "2025-01-13T13:31:14.573845Z",
     "start_time": "2025-01-13T13:31:14.565045Z"
    }
   },
   "cell_type": "code",
   "source": [
    "if not os.path.exists(plot_subpath):\n",
    "    os.makedirs(plot_subpath)"
   ],
   "execution_count": 3,
   "outputs": []
  },
  {
   "metadata": {},
   "cell_type": "markdown",
   "source": "Lp - Ep plotting"
  },
  {
   "metadata": {
    "ExecuteTime": {
     "end_time": "2025-01-13T13:31:14.581536Z",
     "start_time": "2025-01-13T13:31:14.574559Z"
    }
   },
   "cell_type": "code",
   "source": [
    "# seed = 0\n",
    "# model_name = \"lpe-k=1-seed-{}\".format(seed)\n",
    "# lp_history = np.load(f'{path}/lp-values-{model_name}.npy')\n",
    "# ep_history = np.load(f'{path}/ep-values-{model_name}.npy')\n",
    "# fig, ax = plt.subplots(1, 2, figsize=(10, 5))\n",
    "# ax[0].plot(lp_history[0], label='push')\n",
    "# ax[0].plot(lp_history[1], label='stack')\n",
    "# ax[0].plot(lp_history[2], label='hit')\n",
    "# ax[0].set_title('LP history')\n",
    "# ax[0].legend()\n",
    "#\n",
    "# ax[1].plot(ep_history[0], label='push')\n",
    "# ax[1].plot(ep_history[1], label='stack')\n",
    "# ax[1].plot(ep_history[2], label='hit')\n",
    "# ax[1].set_title('EP history')\n",
    "# ax[1].legend()\n",
    "# plt.show()"
   ],
   "execution_count": 4,
   "outputs": []
  },
  {
   "metadata": {
    "ExecuteTime": {
     "end_time": "2025-01-13T13:31:14.593128Z",
     "start_time": "2025-01-13T13:31:14.582036Z"
    }
   },
   "cell_type": "code",
   "source": [
    "num_seeds = 10\n",
    "seeds = [8302, 2766,  257, 7600, 6657, 8226, 6841, 4908, 1321, 7857]\n",
    "task_losses_seeds = np.zeros((len(task_order), num_seeds, len(models), 3, epoch + pre_train))\n",
    "task_energies_seeds = np.zeros((len(task_order), num_seeds, len(models), 3))\n",
    "model_losses_seeds = np.zeros((len(task_order), num_seeds, len(models), epoch + pre_train))\n",
    "model_energies_seeds = np.zeros((len(task_order), num_seeds, len(models)))"
   ],
   "execution_count": 5,
   "outputs": []
  },
  {
   "metadata": {
    "ExecuteTime": {
     "end_time": "2025-01-13T13:31:14.600593Z",
     "start_time": "2025-01-13T13:31:14.593608Z"
    }
   },
   "cell_type": "code",
   "source": "mode = 'train'",
   "execution_count": 6,
   "outputs": []
  },
  {
   "metadata": {
    "ExecuteTime": {
     "end_time": "2025-01-13T13:31:14.635262Z",
     "start_time": "2025-01-13T13:31:14.601283Z"
    }
   },
   "cell_type": "code",
   "source": [
    "# plt.figure(1)\n",
    "for o, order in enumerate(task_order):\n",
    "    for s, seed in enumerate(seeds):\n",
    "      # f, (ax1, ax2) = plt.subplots(1, 2, figsize=(12, 6))\n",
    "      for i, model in enumerate(models):\n",
    "        model_name = model + order if model == \"blocked\" else model\n",
    "        loss_data = np.load('{}/plots/{}-loss-plot-seed-{}.npy'.format(path + model_name, mode, seed), allow_pickle=True)[:, :epoch + pre_train]\n",
    "        energy_data = np.load('{}/plots/{}-energy-bar-epoch-{}-seed-{}.npy'.format(path + model_name, mode, epoch, seed),\n",
    "                              allow_pickle=True)  # shape: task count\n",
    "        avg_task_loss = np.mean(loss_data, axis=0)\n",
    "        for j in range(3):  # number of tasks\n",
    "            task_losses_seeds[o][s][i][j] = loss_data[j]\n",
    "            task_energies_seeds[o][s][i][j] = energy_data[j]\n",
    "        model_losses_seeds[o][s][i] = avg_task_loss\n",
    "        total_energy = np.sum(energy_data)\n",
    "        model_energies_seeds[o][s][i] = total_energy\n",
    "\n",
    "        # ax1.plot(range(epoch + pre_train), avg_task_loss, label=\"{}\".format(model), color=model_colors[model])\n",
    "        # ax2.bar(model, total_energy, width=0.6, label=\"{}\".format(model), color=model_colors[model])\n",
    "        # ax1.legend()\n",
    "        # ax1.set_title('Avg task loss history - seed {}'.format(s))\n",
    "        # ax2.legend()\n",
    "        # ax2.set_title('Total energy consumption - seed {}'.format(s))\n",
    "\n",
    "# plt.show()"
   ],
   "execution_count": 7,
   "outputs": []
  },
  {
   "metadata": {
    "ExecuteTime": {
     "end_time": "2025-01-13T13:31:15.180636Z",
     "start_time": "2025-01-13T13:31:14.635680Z"
    }
   },
   "cell_type": "code",
   "source": [
    "f, axes = plt.subplots(2, 3, figsize=[15, 10])\n",
    "model_loss_mean = np.mean(model_losses_seeds, axis=1)\n",
    "model_loss_std = np.std(model_losses_seeds, axis=1)\n",
    "model_energy_mean = np.mean(model_energies_seeds, axis=1)\n",
    "model_energy_std = np.std(model_energies_seeds, axis=1)\n",
    "\n",
    "for a, ax in enumerate(axes.flatten()):\n",
    "    for i, model in enumerate(models):\n",
    "        ax.bar(model, model_energy_mean[a][i], width=0.6, label=\"{}\".format(model), color=model_colors[model])\n",
    "        ax.errorbar(model, model_energy_mean[a][i], yerr=model_energy_std[a][i], fmt=\"o\", color=\"black\")\n",
    "    ax.set_title(task_order_names[a])\n",
    "    ax.set_ylim([0, 16000])\n",
    "    ax.set_xticks([])\n",
    "    ax.ticklabel_format(axis='y', style='sci', scilimits=(0,0))\n",
    "plt.legend(bbox_to_anchor=(1.4, 2.22), title='Models')\n",
    "f.supylabel('Total energy consumption (neuron activation)', x=0.08)\n",
    "plt.savefig(\"{}/allseeds-energy.png\".format(plot_subpath), bbox_inches='tight')\n",
    "plt.show()"
   ],
   "execution_count": 8,
   "outputs": []
  },
  {
   "metadata": {
    "ExecuteTime": {
     "end_time": "2025-01-13T13:31:15.796413Z",
     "start_time": "2025-01-13T13:31:15.181232Z"
    }
   },
   "cell_type": "code",
   "source": [
    "f, axes = plt.subplots(2, 3, figsize=[15, 10])\n",
    "for a, ax in enumerate(axes.flatten()):\n",
    "    for i, model in enumerate(models):\n",
    "        ax.plot(range(epoch + pre_train), model_loss_mean[a][i], label=\"{}\".format(model), color=model_colors[model])\n",
    "        ax.fill_between(range(epoch + pre_train), model_loss_mean[a][i] - model_loss_std[a][i],\n",
    "                         model_loss_mean[a][i] + model_loss_std[a][i], alpha=0.1)\n",
    "    ax.set_xlabel(\"Epoch\")\n",
    "    ax.set_title(task_order_names[a])\n",
    "    \n",
    "plt.legend(bbox_to_anchor=(1.38, 2.2), borderaxespad=0., title=\"Models\")\n",
    "f.supylabel('Mean Absolute Prediction Error (MAE) (in meters)', x=0.08)\n",
    "plt.savefig(\"{}/allseeds-loss.png\".format(plot_subpath), bbox_inches='tight')\n",
    "plt.show()"
   ],
   "execution_count": 9,
   "outputs": []
  },
  {
   "metadata": {
    "ExecuteTime": {
     "end_time": "2025-01-13T13:31:15.798729Z",
     "start_time": "2025-01-13T13:31:15.797516Z"
    }
   },
   "cell_type": "code",
   "source": "",
   "execution_count": 9,
   "outputs": []
  }
 ]
}
