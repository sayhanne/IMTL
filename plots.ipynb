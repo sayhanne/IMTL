{
 "nbformat": 4,
 "nbformat_minor": 0,
 "metadata": {
  "colab": {
   "provenance": []
  },
  "kernelspec": {
   "name": "python3",
   "display_name": "Python 3 (ipykernel)",
   "language": "python"
  },
  "language_info": {
   "name": "python"
  }
 },
 "cells": [
  {
   "metadata": {
    "ExecuteTime": {
     "end_time": "2024-10-24T13:45:46.914357Z",
     "start_time": "2024-10-24T13:45:46.753211Z"
    }
   },
   "cell_type": "code",
   "source": [
    "import matplotlib.pyplot as plt\n",
    "import numpy as np"
   ],
   "execution_count": 1,
   "outputs": []
  },
  {
   "metadata": {
    "ExecuteTime": {
     "end_time": "2024-10-24T13:47:27.535190Z",
     "start_time": "2024-10-24T13:47:27.533267Z"
    }
   },
   "cell_type": "code",
   "source": [
    "epoch = 600\n",
    "path = 'results'\n",
    "tasks = ['push', 'hit', 'stack']\n",
    "#models = ['b1', 'b2', 'lp',  'lpe-k=0.1', 'lpe-k=1', 'lpe-k=10']\n",
    "models = ['mlp', 'rand-int', 'lp-int']"
   ],
   "execution_count": 5,
   "outputs": []
  },
  {
   "metadata": {},
   "cell_type": "code",
   "source": [
    "# seed = 0\n",
    "# model_name = \"lpe-k=1-seed-{}\".format(seed)\n",
    "# lp_history = np.load(f'{path}/lp-values-{model_name}.npy')\n",
    "# ep_history = np.load(f'{path}/ep-values-{model_name}.npy')\n",
    "# fig, ax = plt.subplots(1, 2, figsize=(10, 5))\n",
    "# ax[0].plot(lp_history[0], label='push')\n",
    "# ax[0].plot(lp_history[1], label='stack')\n",
    "# ax[0].plot(lp_history[2], label='hit')\n",
    "# ax[0].set_title('LP history')\n",
    "# ax[0].legend()\n",
    "# \n",
    "# ax[1].plot(ep_history[0], label='push')\n",
    "# ax[1].plot(ep_history[1], label='stack')\n",
    "# ax[1].plot(ep_history[2], label='hit')\n",
    "# ax[1].set_title('EP history')\n",
    "# ax[1].legend()\n",
    "# plt.show()"
   ],
   "execution_count": null,
   "outputs": []
  },
  {
   "metadata": {
    "ExecuteTime": {
     "end_time": "2024-10-24T13:47:29.604303Z",
     "start_time": "2024-10-24T13:47:29.601463Z"
    }
   },
   "cell_type": "code",
   "source": [
    "num_seeds = 10\n",
    "seeds = [5484, 98438, 99870, 46115, 96999, 19771, 67839, 15547, 15728, 99168]\n",
    "task_losses_seeds = np.zeros((num_seeds, len(models), 3, epoch))\n",
    "task_energies_seeds = np.zeros((num_seeds, len(models), 3))\n",
    "model_losses_seeds = np.zeros((10, len(models), epoch))\n",
    "model_energies_seeds = np.zeros((10, len(models)))"
   ],
   "execution_count": 6,
   "outputs": []
  },
  {
   "metadata": {
    "ExecuteTime": {
     "end_time": "2024-10-24T13:47:31.500761Z",
     "start_time": "2024-10-24T13:47:31.497743Z"
    }
   },
   "cell_type": "code",
   "source": "mode = 'train'",
   "execution_count": 7,
   "outputs": []
  },
  {
   "metadata": {
    "ExecuteTime": {
     "end_time": "2024-10-24T13:47:33.620468Z",
     "start_time": "2024-10-24T13:47:32.527799Z"
    }
   },
   "cell_type": "code",
   "source": [
    "plt.figure(1)\n",
    "for s, seed in enumerate(seeds):\n",
    "  f, (ax1, ax2) = plt.subplots(1, 2, figsize=(12, 6))\n",
    "  for i, model in enumerate(models):\n",
    "    loss_data = np.load('{}/{}-loss-plot-{}-seed-{}.npy'.format(path, mode, model, seed), allow_pickle=True)[:, :epoch]  # with shape (task count, epoch)\n",
    "    energy_data = np.load('{}/{}-energy-bar-{}-seed-{}-epoch-{}.npy'.format(path, mode, model, seed, epoch), allow_pickle=True)  # with shape (task count)\n",
    "    avg_task_loss = np.mean(loss_data, axis=0)\n",
    "    for j in range(3):  # number of tasks\n",
    "        task_losses_seeds[s][i][j] = loss_data[j]\n",
    "        task_energies_seeds[s][i][j] = energy_data[j]\n",
    "    model_losses_seeds[s][i] = avg_task_loss\n",
    "    total_energy = np.sum(energy_data)\n",
    "    model_energies_seeds[s][i] = total_energy\n",
    "\n",
    "    ax1.plot(range(epoch), avg_task_loss, label=\"{}\".format(model))\n",
    "    ax2.bar(model, total_energy, width=0.6, label=\"{}\".format(model))\n",
    "    ax1.legend()\n",
    "    ax1.set_title('Avg task loss history - seed {}'.format(s))\n",
    "    ax2.legend()\n",
    "    ax2.set_title('Total energy consumption - seed {}'.format(s))\n",
    "\n",
    "plt.show()"
   ],
   "execution_count": 8,
   "outputs": []
  },
  {
   "metadata": {
    "ExecuteTime": {
     "end_time": "2024-10-24T13:47:52.458855Z",
     "start_time": "2024-10-24T13:47:52.347542Z"
    }
   },
   "cell_type": "code",
   "source": [
    "# All seeds model avg\n",
    "f, (ax1, ax2) = plt.subplots(1, 2, figsize=(12, 6))\n",
    "model_loss_mean = np.mean(model_losses_seeds, axis=0)\n",
    "model_loss_std = np.std(model_losses_seeds, axis=0)\n",
    "model_energy_mean = np.mean(model_energies_seeds, axis=0)\n",
    "model_energy_std = np.std(model_energies_seeds, axis=0)\n",
    "for i, model in enumerate(models):\n",
    "    ax1.plot(range(epoch), model_loss_mean[i], label=\"{}\".format(model))\n",
    "    ax1.fill_between(range(epoch), model_loss_mean[i] - model_loss_std[i],\n",
    "                     model_loss_mean[i] + model_loss_std[i], alpha=0.1)\n",
    "    ax2.bar(model, model_energy_mean[i], width=0.6, label=\"{}\".format(model))\n",
    "    ax2.errorbar(model, model_energy_mean[i], yerr=model_energy_std[i], fmt=\"o\", color=\"black\")\n",
    "ax1.legend()\n",
    "ax1.set_title('Avg task loss history (all seeds)')\n",
    "ax2.legend()\n",
    "ax2.set_title('Total energy consumption history (all seeds)')\n",
    "# plt.savefig('plotresults/allseeds.png')\n",
    "plt.show()"
   ],
   "execution_count": 9,
   "outputs": []
  },
  {
   "cell_type": "code",
   "source": [
    "# Task specific plots\n",
    "plt.figure(2)\n",
    "f, (ax1, ax2, ax3) = plt.subplots(1, 3, figsize=(15, 5))\n",
    "axes = [ax1, ax2, ax3]\n",
    "tasks_loss_mean = np.mean(task_losses_seeds, axis=0)\n",
    "tasks_loss_std = np.std(task_losses_seeds, axis=0)\n",
    "for i, task in enumerate(tasks):\n",
    "    for j, model in enumerate(models):\n",
    "        axes[i].plot(range(epoch), tasks_loss_mean[j][i], label=\"{}\".format(model))\n",
    "        axes[i].fill_between(range(epoch), tasks_loss_mean[j][i] - tasks_loss_std[j][i],\n",
    "                             tasks_loss_mean[j][i] + tasks_loss_std[j][i], alpha=0.1)\n",
    "    axes[i].legend()\n",
    "    axes[i].set_title('{} task loss history (all seeds avg)'.format(task))\n",
    "# plt.savefig(\"plotresults/task-losses.png\")\n",
    "plt.show()\n",
    "\n",
    "plt.figure(3)\n",
    "f, (ax4, ax5, ax6) = plt.subplots(1, 3, figsize=(15, 5))\n",
    "axes2 = [ax4, ax5, ax6]\n",
    "tasks_energy_mean = np.mean(task_energies_seeds, axis=0)\n",
    "tasks_energy_std = np.std(task_energies_seeds, axis=0)\n",
    "for i, task in enumerate(tasks):\n",
    "    for j, model in enumerate(models):\n",
    "        axes2[i].bar(model, tasks_energy_mean[j][i], width=0.4, label=\"{}\".format(model))\n",
    "        axes2[i].errorbar(model, tasks_energy_mean[j][i], yerr=tasks_energy_std[j][i], fmt=\"o\", color=\"black\")\n",
    "    axes2[i].legend()\n",
    "    axes2[i].set_title('{} task total energy (all seeds avg)'.format(task))\n",
    "# plt.savefig(\"plotresults/task-energies.png\")\n",
    "plt.show()\n"
   ],
   "metadata": {
    "id": "IywKri3dTp8N",
    "ExecuteTime": {
     "end_time": "2024-10-24T13:48:37.071055Z",
     "start_time": "2024-10-24T13:48:36.772228Z"
    }
   },
   "execution_count": 10,
   "outputs": []
  }
 ]
}
