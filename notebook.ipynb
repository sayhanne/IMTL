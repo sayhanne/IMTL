{
 "cells": [
  {
   "metadata": {
    "ExecuteTime": {
     "end_time": "2024-12-16T10:24:33.965220Z",
     "start_time": "2024-12-16T10:24:33.930480Z"
    }
   },
   "cell_type": "code",
   "source": "import numpy as np",
   "id": "35db052e4726fc1c",
   "outputs": [],
   "execution_count": 1
  },
  {
   "cell_type": "code",
   "id": "initial_id",
   "metadata": {
    "collapsed": true,
    "ExecuteTime": {
     "end_time": "2024-12-16T10:24:33.968209Z",
     "start_time": "2024-12-16T10:24:33.965823Z"
    }
   },
   "source": [
    "task_order = np.zeros(3030, dtype=int)\n",
    "perm = [0, 2, 1]"
   ],
   "outputs": [],
   "execution_count": 2
  },
  {
   "metadata": {
    "ExecuteTime": {
     "end_time": "2024-12-16T10:24:33.975906Z",
     "start_time": "2024-12-16T10:24:33.968593Z"
    }
   },
   "cell_type": "code",
   "source": "ext_ = ''.join(map(str,perm))",
   "id": "d8b45aa7442aff65",
   "outputs": [],
   "execution_count": 3
  },
  {
   "metadata": {
    "ExecuteTime": {
     "end_time": "2024-12-16T10:24:33.984377Z",
     "start_time": "2024-12-16T10:24:33.976462Z"
    }
   },
   "cell_type": "code",
   "source": "ext_",
   "id": "15569a39dffda180",
   "outputs": [
    {
     "data": {
      "text/plain": [
       "'021'"
      ]
     },
     "execution_count": 4,
     "metadata": {},
     "output_type": "execute_result"
    }
   ],
   "execution_count": 4
  },
  {
   "metadata": {
    "ExecuteTime": {
     "end_time": "2024-12-16T10:24:33.991539Z",
     "start_time": "2024-12-16T10:24:33.984726Z"
    }
   },
   "cell_type": "code",
   "source": [
    "task_order[:1010] = perm[0]\n",
    "task_order[1010:2020] = perm[1]\n",
    "task_order[2020:] = perm[2]"
   ],
   "id": "a82f40306328188c",
   "outputs": [],
   "execution_count": 5
  },
  {
   "metadata": {
    "ExecuteTime": {
     "end_time": "2024-12-16T10:24:33.999281Z",
     "start_time": "2024-12-16T10:24:33.991857Z"
    }
   },
   "cell_type": "code",
   "source": "task_order",
   "id": "7745a60f097bef5c",
   "outputs": [
    {
     "data": {
      "text/plain": [
       "array([0, 0, 0, ..., 1, 1, 1])"
      ]
     },
     "execution_count": 6,
     "metadata": {},
     "output_type": "execute_result"
    }
   ],
   "execution_count": 6
  },
  {
   "metadata": {
    "ExecuteTime": {
     "end_time": "2024-12-16T10:24:34.006454Z",
     "start_time": "2024-12-16T10:24:33.999619Z"
    }
   },
   "cell_type": "code",
   "source": "np.save('task-order-{}.npy'.format(ext_), task_order)",
   "id": "b818a1a1313acbc8",
   "outputs": [],
   "execution_count": 7
  }
 ],
 "metadata": {
  "kernelspec": {
   "display_name": "Python 3",
   "language": "python",
   "name": "python3"
  },
  "language_info": {
   "codemirror_mode": {
    "name": "ipython",
    "version": 2
   },
   "file_extension": ".py",
   "mimetype": "text/x-python",
   "name": "python",
   "nbconvert_exporter": "python",
   "pygments_lexer": "ipython2",
   "version": "2.7.6"
  }
 },
 "nbformat": 4,
 "nbformat_minor": 5
}
