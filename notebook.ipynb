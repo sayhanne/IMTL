{
 "cells": [
  {
   "metadata": {
    "ExecuteTime": {
     "end_time": "2024-11-09T09:36:03.587871Z",
     "start_time": "2024-11-09T09:36:03.548274Z"
    }
   },
   "cell_type": "code",
   "source": "import numpy as np",
   "id": "35db052e4726fc1c",
   "outputs": [],
   "execution_count": 1
  },
  {
   "cell_type": "code",
   "id": "initial_id",
   "metadata": {
    "collapsed": true,
    "ExecuteTime": {
     "end_time": "2024-11-09T09:36:04.631849Z",
     "start_time": "2024-11-09T09:36:04.629449Z"
    }
   },
   "source": "task_order = np.zeros(5030, dtype=int)",
   "outputs": [],
   "execution_count": 2
  },
  {
   "metadata": {
    "ExecuteTime": {
     "end_time": "2024-11-09T09:36:05.756574Z",
     "start_time": "2024-11-09T09:36:05.753673Z"
    }
   },
   "cell_type": "code",
   "source": [
    "task_order[:1510] = 0\n",
    "task_order[1510:3020] = 1\n",
    "task_order[3020:] = 2"
   ],
   "id": "a82f40306328188c",
   "outputs": [],
   "execution_count": 3
  },
  {
   "metadata": {
    "ExecuteTime": {
     "end_time": "2024-11-09T09:36:07.064363Z",
     "start_time": "2024-11-09T09:36:07.058980Z"
    }
   },
   "cell_type": "code",
   "source": "task_order",
   "id": "7745a60f097bef5c",
   "outputs": [
    {
     "data": {
      "text/plain": [
       "array([0, 0, 0, ..., 2, 2, 2])"
      ]
     },
     "execution_count": 4,
     "metadata": {},
     "output_type": "execute_result"
    }
   ],
   "execution_count": 4
  },
  {
   "metadata": {
    "ExecuteTime": {
     "end_time": "2024-11-09T09:36:10.381109Z",
     "start_time": "2024-11-09T09:36:10.377926Z"
    }
   },
   "cell_type": "code",
   "source": "np.save('task_order.npy', task_order)",
   "id": "b818a1a1313acbc8",
   "outputs": [],
   "execution_count": 5
  },
  {
   "metadata": {},
   "cell_type": "code",
   "outputs": [],
   "execution_count": null,
   "source": "",
   "id": "c8b1a96ce256cfd3"
  }
 ],
 "metadata": {
  "kernelspec": {
   "display_name": "Python 3",
   "language": "python",
   "name": "python3"
  },
  "language_info": {
   "codemirror_mode": {
    "name": "ipython",
    "version": 2
   },
   "file_extension": ".py",
   "mimetype": "text/x-python",
   "name": "python",
   "nbconvert_exporter": "python",
   "pygments_lexer": "ipython2",
   "version": "2.7.6"
  }
 },
 "nbformat": 4,
 "nbformat_minor": 5
}
