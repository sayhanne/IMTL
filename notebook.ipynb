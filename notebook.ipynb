{
 "cells": [
  {
   "metadata": {},
   "cell_type": "code",
   "source": "# import numpy as np",
   "id": "35db052e4726fc1c",
   "execution_count": null,
   "outputs": []
  },
  {
   "cell_type": "code",
   "id": "initial_id",
   "metadata": {
    "collapsed": true
   },
   "source": [
    "# task_order = np.zeros(3030, dtype=int)\n",
    "# perm = [2, 1, 0]"
   ],
   "execution_count": null,
   "outputs": []
  },
  {
   "metadata": {},
   "cell_type": "code",
   "source": "# ext_ = ''.join(map(str,perm))",
   "id": "d8b45aa7442aff65",
   "execution_count": null,
   "outputs": []
  },
  {
   "metadata": {},
   "cell_type": "code",
   "source": "# ext_",
   "id": "15569a39dffda180",
   "execution_count": null,
   "outputs": []
  },
  {
   "metadata": {},
   "cell_type": "code",
   "source": [
    "# task_order[:1010] = perm[0]\n",
    "# task_order[1010:2020] = perm[1]\n",
    "# task_order[2020:] = perm[2]"
   ],
   "id": "a82f40306328188c",
   "execution_count": null,
   "outputs": []
  },
  {
   "metadata": {},
   "cell_type": "code",
   "source": "# task_order",
   "id": "7745a60f097bef5c",
   "execution_count": null,
   "outputs": []
  },
  {
   "metadata": {},
   "cell_type": "code",
   "source": "# np.save('task-order-{}.npy'.format(ext_), task_order)",
   "id": "b818a1a1313acbc8",
   "execution_count": null,
   "outputs": []
  },
  {
   "metadata": {},
   "cell_type": "markdown",
   "source": "alternate lp",
   "id": "d5619f70bdf24076"
  },
  {
   "metadata": {},
   "cell_type": "code",
   "source": [
    "#     # 2. Check for starved tasks\n",
    "        #     starved_tasks = [\n",
    "        #         i for i in range(self.taskCount)\n",
    "        #         if self.untrained_count[i] >= self.R and self.cooldown_counter[i] == 0\n",
    "        #     ]\n",
    "        #     if len(starved_tasks) > 0:\n",
    "        #         # Fallback: pick the lowest lp task\n",
    "        #         winner = min(starved_tasks, key=lambda task: self.current_lp[task])\n",
    "        #     else:\n",
    "        #         candidate_tasks = []\n",
    "        #         #    Exclude tasks that are on cooldown\n",
    "        #         for i in range(self.taskCount):\n",
    "        #             if self.cooldown_counter[i] == 0:\n",
    "        #                 candidate_tasks.append(i)\n",
    "        #         winner = max(candidate_tasks, key=lambda task: self.current_lp[task])\n",
    "        #\n",
    "        #     # Update untrained_count\n",
    "        #     # the chosen task is no longer \"untrained\" for this epoch\n",
    "        #     self.untrained_count[winner] = 0\n",
    "        #     #  all other tasks have +1 untrained_count\n",
    "        #     for i in range(self.taskCount):\n",
    "        #         if i != winner:\n",
    "        #             self.untrained_count[i] += 1\n",
    "        #\n",
    "        #     if self.last_winner == winner:\n",
    "        #         self.consecutive_count[winner] += 1\n",
    "        #     else:\n",
    "        #         # reset the counter of the previously selected task (optional)\n",
    "        #         if self.last_winner is not None:\n",
    "        #             self.consecutive_count[self.last_winner] = 0\n",
    "        #         self.consecutive_count[winner] = 1\n",
    "        #\n",
    "        #     # If consecutive_count exceeds threshold, place on cooldown\n",
    "        #     if self.consecutive_count[winner] > self.M:\n",
    "        #         # put it on cooldown for L epochs\n",
    "        #         self.cooldown_counter[winner] = self.L + 1\n",
    "        #         # reset consecutive counter\n",
    "        #         self.consecutive_count[winner] = 0\n",
    "        #\n",
    "        #     # Decrement cooldown counters for all tasks that are on cooldown\n",
    "        #     for i in range(self.taskCount):\n",
    "        #         if self.cooldown_counter[i] > 0:\n",
    "        #             self.cooldown_counter[i] -= 1\n",
    "        #\n",
    "        #     self.last_winner = winner\n",
    "        #     # winner_index = -1\n",
    "        #     # if self.selection == \"lp\":\n",
    "        #     #     winner_index = np.argsort(self.current_lp)[::-1][0]  # Highest lp\n",
    "        #     # elif self.selection == \"lpe\":\n",
    "        #     #     combined = np.asarray(self.current_lp) * np.exp(-self.k * np.asarray(self.current_ec))\n",
    "        #     #     winner_index = np.argsort(combined)[::-1][0]  # Highest lpe\n",
    "        #     # selected = np.random.choice(a=[winner_index, -1], p=[1 - self.e, self.e])\n",
    "        #     # if selected == -1:\n",
    "        #     #     other_tasks = np.setdiff1d(range(self.taskCount), [winner_index])\n",
    "        #     #     winner = np.random.choice(other_tasks)\n",
    "        #     # else:\n",
    "        #     #     winner = winner_index"
   ],
   "id": "2b8b34d6e218ae29",
   "execution_count": null,
   "outputs": []
  },
  {
   "metadata": {
    "ExecuteTime": {
     "end_time": "2025-01-13T13:32:12.670558Z",
     "start_time": "2025-01-13T13:32:12.518487Z"
    }
   },
   "cell_type": "code",
   "source": [
    "import numpy as np\n",
    "import matplotlib.pyplot as plt\n",
    "import matplotlib as mpl\n",
    "mpl.rcParams['savefig.dpi'] = 200"
   ],
   "id": "271173a930d1fc54",
   "execution_count": 1,
   "outputs": []
  },
  {
   "metadata": {
    "ExecuteTime": {
     "end_time": "2025-01-13T13:32:13.286596Z",
     "start_time": "2025-01-13T13:32:13.284943Z"
    }
   },
   "cell_type": "code",
   "source": "import os",
   "id": "bb18219d8e6135ab",
   "execution_count": 2,
   "outputs": []
  },
  {
   "metadata": {
    "ExecuteTime": {
     "end_time": "2025-01-13T13:32:16.038666Z",
     "start_time": "2025-01-13T13:32:16.035264Z"
    }
   },
   "cell_type": "code",
   "source": [
    "pre_train = 10\n",
    "epoch = 3000\n",
    "path = 'results/training'\n",
    "path_ext = ['/', '-noattnflag/', '-noflag/', '-noattn/']\n",
    "components = ['attn + flag', 'flag', 'attn', 'none']\n",
    "tasks = ['push', 'hit', 'stack']\n",
    "# models = ['imtl-lpe-0.1', 'imtl-lpe-1', 'imtl-lpe-10']\n",
    "models = ['imtl-rand', 'imtl-lp']\n",
    "colors = mpl.colormaps['Dark2'].colors\n",
    "plot_subpath = \"plotresults/ablation-grouped\""
   ],
   "id": "655fa07adfa164b2",
   "execution_count": 3,
   "outputs": []
  },
  {
   "metadata": {
    "ExecuteTime": {
     "end_time": "2025-01-13T13:32:18.019462Z",
     "start_time": "2025-01-13T13:32:18.016717Z"
    }
   },
   "cell_type": "code",
   "source": [
    "if not os.path.exists(plot_subpath):\n",
    "    os.makedirs(plot_subpath)"
   ],
   "id": "7eced5d87d782585",
   "execution_count": 4,
   "outputs": []
  },
  {
   "metadata": {
    "ExecuteTime": {
     "end_time": "2025-01-13T13:32:19.166737Z",
     "start_time": "2025-01-13T13:32:19.163548Z"
    }
   },
   "cell_type": "code",
   "source": [
    "num_seeds = 10\n",
    "seeds = [8302, 2766,  257, 7600, 6657, 8226, 6841, 4908, 1321, 7857]\n",
    "task_losses_seeds = np.zeros((len(models), num_seeds, len(path_ext), 3, epoch + pre_train))\n",
    "task_energies_seeds = np.zeros((len(models), num_seeds, len(path_ext), 3))\n",
    "model_losses_seeds = np.zeros((len(models), num_seeds, len(path_ext), epoch + pre_train))\n",
    "model_energies_seeds = np.zeros((len(models), num_seeds, len(path_ext)))"
   ],
   "id": "d80bcb9d5b3b53c7",
   "execution_count": 5,
   "outputs": []
  },
  {
   "metadata": {
    "ExecuteTime": {
     "end_time": "2025-01-13T13:32:19.622735Z",
     "start_time": "2025-01-13T13:32:19.620544Z"
    }
   },
   "cell_type": "code",
   "source": "mode = 'train'",
   "id": "586643392f2376ac",
   "execution_count": 6,
   "outputs": []
  },
  {
   "metadata": {
    "ExecuteTime": {
     "end_time": "2025-01-13T13:32:21.254326Z",
     "start_time": "2025-01-13T13:32:21.242272Z"
    }
   },
   "cell_type": "code",
   "source": [
    "for m, model in enumerate(models):\n",
    "    for s, seed in enumerate(seeds):\n",
    "      for i, ext in enumerate(path_ext):\n",
    "        model_path = path + ext + model\n",
    "        loss_data = np.load('{}/plots/{}-loss-plot-seed-{}.npy'.format(model_path, mode, seed), allow_pickle=True)[:, :epoch + pre_train]\n",
    "        energy_data = np.load('{}/plots/{}-energy-bar-epoch-{}-seed-{}.npy'.format(model_path, mode, epoch, seed), allow_pickle=True)  # shape: task count\n",
    "        avg_task_loss = np.mean(loss_data, axis=0)\n",
    "        for j in range(3):  # number of tasks\n",
    "            task_losses_seeds[m][s][i][j] = loss_data[j]\n",
    "            task_energies_seeds[m][s][i][j] = energy_data[j]\n",
    "        model_losses_seeds[m][s][i] = avg_task_loss\n",
    "        total_energy = np.sum(energy_data)\n",
    "        model_energies_seeds[m][s][i] = total_energy"
   ],
   "id": "393faae967cd30a6",
   "execution_count": 7,
   "outputs": []
  },
  {
   "metadata": {
    "ExecuteTime": {
     "end_time": "2025-01-13T13:33:07.341714Z",
     "start_time": "2025-01-13T13:33:07.068871Z"
    }
   },
   "cell_type": "code",
   "source": [
    "f, (ax1, ax2) = plt.subplots(1, 2, figsize=(10, 5))\n",
    "axes = [ax1, ax2]\n",
    "model_loss_mean = np.mean(model_losses_seeds, axis=1)\n",
    "model_loss_std = np.std(model_losses_seeds, axis=1)\n",
    "model_energy_mean = np.mean(model_energies_seeds, axis=1)\n",
    "model_energy_std = np.std(model_energies_seeds, axis=1)\n",
    "\n",
    "for a, ax in enumerate(axes):\n",
    "    for i, ext in enumerate(path_ext):\n",
    "        ax.plot(range(epoch + pre_train), model_loss_mean[a][i], label=\"{}\".format(components[i]), color=colors[i])\n",
    "        ax.fill_between(range(epoch + pre_train), model_loss_mean[a][i] - model_loss_std[a][i],\n",
    "                         model_loss_mean[a][i] + model_loss_std[a][i], alpha=0.05, color=colors[i])\n",
    "    ax.set_xlabel(\"Epoch\")\n",
    "    if a == 0:\n",
    "        ax.set_ylabel(\"Mean Absolute Prediction Error (MAE) (in meters)\")\n",
    "plt.tight_layout()\n",
    "plt.legend(bbox_to_anchor=(1.35, 1), borderaxespad=0.)\n",
    "plt.savefig(\"{}/components.png\".format(plot_subpath), bbox_inches='tight')\n",
    "plt.show()"
   ],
   "id": "a0e40a37578c3e18",
   "execution_count": 10,
   "outputs": []
  },
  {
   "metadata": {},
   "cell_type": "code",
   "source": "",
   "id": "866be8c8d944b94d",
   "execution_count": null,
   "outputs": []
  }
 ],
 "metadata": {
  "kernelspec": {
   "display_name": "Python 3",
   "language": "python",
   "name": "python3"
  },
  "language_info": {
   "codemirror_mode": {
    "name": "ipython",
    "version": 2
   },
   "file_extension": ".py",
   "mimetype": "text/x-python",
   "name": "python",
   "nbconvert_exporter": "python",
   "pygments_lexer": "ipython2",
   "version": "2.7.6"
  }
 },
 "nbformat": 4,
 "nbformat_minor": 5
}
