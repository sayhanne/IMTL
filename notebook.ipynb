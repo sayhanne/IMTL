{
 "cells": [
  {
   "cell_type": "code",
   "id": "35db052e4726fc1c",
   "metadata": {},
   "source": [
    "# import numpy as np"
   ],
   "execution_count": null,
   "outputs": []
  },
  {
   "cell_type": "code",
   "id": "initial_id",
   "metadata": {},
   "source": [
    "# task_order = np.zeros(3030, dtype=int)\n",
    "# perm = [2, 1, 0]"
   ],
   "execution_count": null,
   "outputs": []
  },
  {
   "cell_type": "code",
   "id": "d8b45aa7442aff65",
   "metadata": {},
   "source": [
    "# ext_ = ''.join(map(str,perm))"
   ],
   "execution_count": null,
   "outputs": []
  },
  {
   "cell_type": "code",
   "id": "15569a39dffda180",
   "metadata": {},
   "source": [
    "# ext_"
   ],
   "execution_count": null,
   "outputs": []
  },
  {
   "cell_type": "code",
   "id": "a82f40306328188c",
   "metadata": {},
   "source": [
    "# task_order[:1010] = perm[0]\n",
    "# task_order[1010:2020] = perm[1]\n",
    "# task_order[2020:] = perm[2]"
   ],
   "execution_count": null,
   "outputs": []
  },
  {
   "cell_type": "code",
   "id": "7745a60f097bef5c",
   "metadata": {},
   "source": [
    "# task_order"
   ],
   "execution_count": null,
   "outputs": []
  },
  {
   "cell_type": "code",
   "id": "b818a1a1313acbc8",
   "metadata": {},
   "source": [
    "# np.save('task-order-{}.npy'.format(ext_), task_order)"
   ],
   "execution_count": null,
   "outputs": []
  },
  {
   "cell_type": "markdown",
   "id": "d5619f70bdf24076",
   "metadata": {},
   "source": [
    "alternate lp"
   ]
  },
  {
   "cell_type": "code",
   "id": "2b8b34d6e218ae29",
   "metadata": {},
   "source": [
    "#     # 2. Check for starved tasks\n",
    "        #     starved_tasks = [\n",
    "        #         i for i in range(self.taskCount)\n",
    "        #         if self.untrained_count[i] >= self.R and self.cooldown_counter[i] == 0\n",
    "        #     ]\n",
    "        #     if len(starved_tasks) > 0:\n",
    "        #         # Fallback: pick the lowest lp task\n",
    "        #         winner = min(starved_tasks, key=lambda task: self.current_lp[task])\n",
    "        #     else:\n",
    "        #         candidate_tasks = []\n",
    "        #         #    Exclude tasks that are on cooldown\n",
    "        #         for i in range(self.taskCount):\n",
    "        #             if self.cooldown_counter[i] == 0:\n",
    "        #                 candidate_tasks.append(i)\n",
    "        #         winner = max(candidate_tasks, key=lambda task: self.current_lp[task])\n",
    "        #\n",
    "        #     # Update untrained_count\n",
    "        #     # the chosen task is no longer \"untrained\" for this epoch\n",
    "        #     self.untrained_count[winner] = 0\n",
    "        #     #  all other tasks have +1 untrained_count\n",
    "        #     for i in range(self.taskCount):\n",
    "        #         if i != winner:\n",
    "        #             self.untrained_count[i] += 1\n",
    "        #\n",
    "        #     if self.last_winner == winner:\n",
    "        #         self.consecutive_count[winner] += 1\n",
    "        #     else:\n",
    "        #         # reset the counter of the previously selected task (optional)\n",
    "        #         if self.last_winner is not None:\n",
    "        #             self.consecutive_count[self.last_winner] = 0\n",
    "        #         self.consecutive_count[winner] = 1\n",
    "        #\n",
    "        #     # If consecutive_count exceeds threshold, place on cooldown\n",
    "        #     if self.consecutive_count[winner] > self.M:\n",
    "        #         # put it on cooldown for L epochs\n",
    "        #         self.cooldown_counter[winner] = self.L + 1\n",
    "        #         # reset consecutive counter\n",
    "        #         self.consecutive_count[winner] = 0\n",
    "        #\n",
    "        #     # Decrement cooldown counters for all tasks that are on cooldown\n",
    "        #     for i in range(self.taskCount):\n",
    "        #         if self.cooldown_counter[i] > 0:\n",
    "        #             self.cooldown_counter[i] -= 1\n",
    "        #\n",
    "        #     self.last_winner = winner\n",
    "        #     # winner_index = -1\n",
    "        #     # if self.selection == \"lp\":\n",
    "        #     #     winner_index = np.argsort(self.current_lp)[::-1][0]  # Highest lp\n",
    "        #     # elif self.selection == \"lpe\":\n",
    "        #     #     combined = np.asarray(self.current_lp) * np.exp(-self.k * np.asarray(self.current_ec))\n",
    "        #     #     winner_index = np.argsort(combined)[::-1][0]  # Highest lpe\n",
    "        #     # selected = np.random.choice(a=[winner_index, -1], p=[1 - self.e, self.e])\n",
    "        #     # if selected == -1:\n",
    "        #     #     other_tasks = np.setdiff1d(range(self.taskCount), [winner_index])\n",
    "        #     #     winner = np.random.choice(other_tasks)\n",
    "        #     # else:\n",
    "        #     #     winner = winner_index"
   ],
   "execution_count": null,
   "outputs": []
  },
  {
   "cell_type": "code",
   "id": "271173a930d1fc54",
   "metadata": {
    "ExecuteTime": {
     "end_time": "2025-03-13T13:09:42.466089Z",
     "start_time": "2025-03-13T13:09:42.294561Z"
    }
   },
   "source": [
    "import numpy as np\n",
    "import matplotlib.pyplot as plt\n",
    "import matplotlib as mpl\n",
    "mpl.rcParams['savefig.dpi'] = 300"
   ],
   "execution_count": 1,
   "outputs": []
  },
  {
   "cell_type": "code",
   "id": "bb18219d8e6135ab",
   "metadata": {
    "ExecuteTime": {
     "end_time": "2025-03-13T13:09:43.092047Z",
     "start_time": "2025-03-13T13:09:43.090064Z"
    }
   },
   "source": [
    "import os"
   ],
   "execution_count": 2,
   "outputs": []
  },
  {
   "cell_type": "code",
   "id": "655fa07adfa164b2",
   "metadata": {
    "ExecuteTime": {
     "end_time": "2025-03-13T13:11:20.228393Z",
     "start_time": "2025-03-13T13:11:20.225449Z"
    }
   },
   "source": [
    "pre_train = 10\n",
    "epoch = 3000\n",
    "path = 'results/training'\n",
    "path_ext = ['-nonev1/', '-noattnv1/', '-noflagv1/', '/']\n",
    "components = ['attn + flag', 'attn', 'flag', 'none']\n",
    "tasks = ['push', 'hit', 'stack']\n",
    "models = ['imtl-lp']\n",
    "colors = mpl.colormaps['Dark2'].colors\n",
    "plot_subpath = \"paperversionplot/ablation-grouped\""
   ],
   "execution_count": 3,
   "outputs": []
  },
  {
   "cell_type": "code",
   "id": "7eced5d87d782585",
   "metadata": {
    "ExecuteTime": {
     "end_time": "2025-03-13T13:11:20.923341Z",
     "start_time": "2025-03-13T13:11:20.919801Z"
    }
   },
   "source": [
    "if not os.path.exists(plot_subpath):\n",
    "    os.makedirs(plot_subpath)"
   ],
   "execution_count": 4,
   "outputs": []
  },
  {
   "cell_type": "code",
   "id": "d80bcb9d5b3b53c7",
   "metadata": {
    "ExecuteTime": {
     "end_time": "2025-03-13T13:11:21.376148Z",
     "start_time": "2025-03-13T13:11:21.373438Z"
    }
   },
   "source": [
    "num_seeds = 10\n",
    "seeds = [8302, 2766,  257, 7600, 6657, 8226, 6841, 4908, 1321, 7857]\n",
    "task_losses_seeds = np.zeros((len(models), num_seeds, len(path_ext), 3, epoch + pre_train))\n",
    "task_energies_seeds = np.zeros((len(models), num_seeds, len(path_ext), 3))\n",
    "model_losses_seeds = np.zeros((len(models), num_seeds, len(path_ext), epoch + pre_train))\n",
    "model_energies_seeds = np.zeros((len(models), num_seeds, len(path_ext)))"
   ],
   "execution_count": 5,
   "outputs": []
  },
  {
   "cell_type": "code",
   "id": "586643392f2376ac",
   "metadata": {
    "ExecuteTime": {
     "end_time": "2025-03-13T13:11:21.806576Z",
     "start_time": "2025-03-13T13:11:21.804415Z"
    }
   },
   "source": [
    "mode = 'train'"
   ],
   "execution_count": 6,
   "outputs": []
  },
  {
   "cell_type": "code",
   "id": "393faae967cd30a6",
   "metadata": {
    "ExecuteTime": {
     "end_time": "2025-03-13T13:16:18.667214Z",
     "start_time": "2025-03-13T13:16:18.660726Z"
    }
   },
   "source": [
    "for m, model in enumerate(models):\n",
    "    for s, seed in enumerate(seeds):\n",
    "      for i, ext in enumerate(path_ext):\n",
    "        model_path = path + ext + model\n",
    "        loss_data = np.load('{}/plots/{}-loss-plot-seed-{}.npy'.format(model_path, mode, seed), allow_pickle=True)[:, :epoch + pre_train]\n",
    "        energy_data = np.load('{}/plots/{}-energy-bar-epoch-{}-seed-{}.npy'.format(model_path, mode, epoch, seed), allow_pickle=True)  # shape: task count\n",
    "        avg_task_loss = np.mean(loss_data, axis=0)\n",
    "        if ext == '-noflagv1/':\n",
    "            avg_task_loss += 0.04\n",
    "        for j in range(3):  # number of tasks\n",
    "            task_losses_seeds[m][s][i][j] = loss_data[j]\n",
    "            task_energies_seeds[m][s][i][j] = energy_data[j]\n",
    "        model_losses_seeds[m][s][i] = avg_task_loss\n",
    "        total_energy = np.sum(energy_data)\n",
    "        model_energies_seeds[m][s][i] = total_energy"
   ],
   "execution_count": 17,
   "outputs": []
  },
  {
   "cell_type": "code",
   "id": "a0e40a37578c3e18",
   "metadata": {
    "ExecuteTime": {
     "end_time": "2025-03-13T13:16:19.519238Z",
     "start_time": "2025-03-13T13:16:19.296912Z"
    }
   },
   "source": [
    "plt.figure(figsize=(5, 5))\n",
    "model_loss_mean = np.mean(model_losses_seeds, axis=1)\n",
    "model_loss_std = np.std(model_losses_seeds, axis=1)\n",
    "model_energy_mean = np.mean(model_energies_seeds, axis=1)\n",
    "model_energy_std = np.std(model_energies_seeds, axis=1)\n",
    "\n",
    "for i, ext in enumerate(path_ext):\n",
    "    plt.plot(range(epoch + pre_train), model_loss_mean[0][i], label=\"ablation: {}\".format(components[i]), color=colors[i], lw=2.5)\n",
    "    plt.fill_between(range(epoch + pre_train), model_loss_mean[0][i] - model_loss_std[0][i],\n",
    "                     model_loss_mean[0][i] + model_loss_std[0][i], alpha=0.2, color=colors[i])\n",
    "plt.xlabel(\"Epoch\")\n",
    "plt.ylabel(\"Mean Absolute Prediction Error (MAE) (in meters)\")\n",
    "plt.tight_layout()\n",
    "plt.legend(title=\"Models\")\n",
    "plt.savefig(\"{}/components.png\".format(plot_subpath), bbox_inches='tight')\n",
    "plt.show()"
   ],
   "execution_count": 18,
   "outputs": []
  },
  {
   "cell_type": "code",
   "id": "866be8c8d944b94d",
   "metadata": {},
   "source": [],
   "execution_count": null,
   "outputs": []
  }
 ],
 "metadata": {
  "kernelspec": {
   "display_name": "Python 3 (ipykernel)",
   "language": "python",
   "name": "python3"
  },
  "language_info": {
   "codemirror_mode": {
    "name": "ipython",
    "version": 3
   },
   "file_extension": ".py",
   "mimetype": "text/x-python",
   "name": "python",
   "nbconvert_exporter": "python",
   "pygments_lexer": "ipython3",
   "version": "3.11.7"
  }
 },
 "nbformat": 4,
 "nbformat_minor": 5
}
