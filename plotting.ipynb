{
 "nbformat": 4,
 "nbformat_minor": 0,
 "metadata": {
  "colab": {
   "provenance": []
  },
  "kernelspec": {
   "name": "python3",
   "display_name": "Python 3 (ipykernel)",
   "language": "python"
  },
  "language_info": {
   "name": "python"
  }
 },
 "cells": [
  {
   "metadata": {
    "ExecuteTime": {
     "end_time": "2025-01-13T13:26:12.128929Z",
     "start_time": "2025-01-13T13:26:11.958322Z"
    }
   },
   "cell_type": "code",
   "source": [
    "import matplotlib.pyplot as plt\n",
    "import matplotlib as mpl\n",
    "import numpy as np\n",
    "import os\n",
    "mpl.rcParams['savefig.dpi'] = 200"
   ],
   "execution_count": 1,
   "outputs": []
  },
  {
   "metadata": {
    "ExecuteTime": {
     "end_time": "2025-01-13T13:26:12.133109Z",
     "start_time": "2025-01-13T13:26:12.130055Z"
    }
   },
   "cell_type": "code",
   "source": [
    "pre_train = 10\n",
    "epoch = 3000\n",
    "path = 'results/training/'\n",
    "tasks = ['Push', 'Hit', 'Stack']\n",
    "key = 'blocked'\n",
    "model_colors = {'singletask': 'green', 'imtl-rand': 'orange', \n",
    "                'imtl-lp': 'blue', 'imtl-lpe-0.1': 'gold',\n",
    "                'imtl-lpe-1': 'purple', 'imtl-lpe-10': 'hotpink',\n",
    "                key:'saddlebrown'}\n",
    "models = ['singletask', 'imtl-rand', 'imtl-lp']\n",
    "plot_subpath = \"plotresults/default\""
   ],
   "execution_count": 2,
   "outputs": []
  },
  {
   "metadata": {
    "ExecuteTime": {
     "end_time": "2025-01-13T13:26:12.142865Z",
     "start_time": "2025-01-13T13:26:12.133599Z"
    }
   },
   "cell_type": "code",
   "source": [
    "if not os.path.exists(plot_subpath):\n",
    "    os.makedirs(plot_subpath)"
   ],
   "execution_count": 3,
   "outputs": []
  },
  {
   "metadata": {},
   "cell_type": "markdown",
   "source": "Lp - Ep plotting"
  },
  {
   "metadata": {
    "ExecuteTime": {
     "end_time": "2025-01-13T13:26:12.150343Z",
     "start_time": "2025-01-13T13:26:12.143482Z"
    }
   },
   "cell_type": "code",
   "source": [
    "# seed = 0\n",
    "# model_name = \"lpe-k=1-seed-{}\".format(seed)\n",
    "# lp_history = np.load(f'{path}/lp-values-{model_name}.npy')\n",
    "# ep_history = np.load(f'{path}/ep-values-{model_name}.npy')\n",
    "# fig, ax = plt.subplots(1, 2, figsize=(10, 5))\n",
    "# ax[0].plot(lp_history[0], label='push')\n",
    "# ax[0].plot(lp_history[1], label='stack')\n",
    "# ax[0].plot(lp_history[2], label='hit')\n",
    "# ax[0].set_title('LP history')\n",
    "# ax[0].legend()\n",
    "#\n",
    "# ax[1].plot(ep_history[0], label='push')\n",
    "# ax[1].plot(ep_history[1], label='stack')\n",
    "# ax[1].plot(ep_history[2], label='hit')\n",
    "# ax[1].set_title('EP history')\n",
    "# ax[1].legend()\n",
    "# plt.show()"
   ],
   "execution_count": 4,
   "outputs": []
  },
  {
   "metadata": {
    "ExecuteTime": {
     "end_time": "2025-01-13T13:26:12.162153Z",
     "start_time": "2025-01-13T13:26:12.150758Z"
    }
   },
   "cell_type": "code",
   "source": [
    "num_seeds = 10\n",
    "seeds = [8302, 2766,  257, 7600, 6657, 8226, 6841, 4908, 1321, 7857]\n",
    "task_losses_seeds = np.zeros((num_seeds, len(models), 3, epoch + pre_train))\n",
    "task_energies_seeds = np.zeros((num_seeds, len(models), 3))\n",
    "model_losses_seeds = np.zeros((num_seeds, len(models), epoch + pre_train))\n",
    "model_energies_seeds = np.zeros((num_seeds, len(models)))"
   ],
   "execution_count": 5,
   "outputs": []
  },
  {
   "metadata": {
    "ExecuteTime": {
     "end_time": "2025-01-13T13:26:12.170101Z",
     "start_time": "2025-01-13T13:26:12.162940Z"
    }
   },
   "cell_type": "code",
   "source": "mode = 'train'",
   "execution_count": 6,
   "outputs": []
  },
  {
   "metadata": {
    "ExecuteTime": {
     "end_time": "2025-01-13T13:26:12.184421Z",
     "start_time": "2025-01-13T13:26:12.171167Z"
    }
   },
   "cell_type": "code",
   "source": [
    "# plt.figure(1)\n",
    "for s, seed in enumerate(seeds):\n",
    "  # f, (ax1, ax2) = plt.subplots(1, 2, figsize=(12, 6))\n",
    "  for i, model in enumerate(models):\n",
    "    loss_data = np.load('{}/plots/{}-loss-plot-seed-{}.npy'.format(path + model, mode, seed), allow_pickle=True)[:, :epoch + pre_train]\n",
    "    energy_data = np.load('{}/plots/{}-energy-bar-epoch-{}-seed-{}.npy'.format(path + model, mode, epoch, seed),\n",
    "                          allow_pickle=True)  # shape: task count\n",
    "    avg_task_loss = np.mean(loss_data, axis=0)\n",
    "    for j in range(3):  # number of tasks\n",
    "        task_losses_seeds[s][i][j] = loss_data[j]\n",
    "        task_energies_seeds[s][i][j] = energy_data[j]\n",
    "    model_losses_seeds[s][i] = avg_task_loss\n",
    "    total_energy = np.sum(energy_data)\n",
    "    model_energies_seeds[s][i] = total_energy\n",
    "\n",
    "#     ax1.plot(range(epoch + pre_train), avg_task_loss, label=\"{}\".format(model), color=model_colors[model])\n",
    "#     ax2.bar(model, total_energy, width=0.6, label=\"{}\".format(model), color=model_colors[model])\n",
    "#     ax1.legend()\n",
    "#     ax1.set_title('Avg task loss history - seed {}'.format(s))\n",
    "#     ax2.legend()\n",
    "#     ax2.set_title('Total energy consumption - seed {}'.format(s))\n",
    "# \n",
    "# plt.show()"
   ],
   "execution_count": 7,
   "outputs": []
  },
  {
   "metadata": {
    "ExecuteTime": {
     "end_time": "2025-01-13T13:26:12.317939Z",
     "start_time": "2025-01-13T13:26:12.185034Z"
    }
   },
   "cell_type": "code",
   "source": [
    "plt.figure(figsize=(5, 5))\n",
    "model_loss_mean = np.mean(model_losses_seeds, axis=0)\n",
    "model_loss_std = np.std(model_losses_seeds, axis=0)\n",
    "model_energy_mean = np.mean(model_energies_seeds, axis=0)\n",
    "model_energy_std = np.std(model_energies_seeds, axis=0)\n",
    "\n",
    "for i, model in enumerate(models):\n",
    "    plt.bar(model, model_energy_mean[i], width=0.6, label=\"{}\".format(model), color=model_colors[model] )\n",
    "    plt.errorbar(model, model_energy_mean[i], yerr=model_energy_std[i], fmt=\"o\", color=\"black\")\n",
    "\n",
    "plt.xticks([])\n",
    "plt.ticklabel_format(axis='y', style='sci', scilimits=(0,0))\n",
    "plt.ylabel('Total energy consumption (neuron activation)')\n",
    "plt.legend(bbox_to_anchor=(1.37, 1.02), title='Models')\n",
    "plt.savefig(\"{}/allseeds-energy.png\".format(plot_subpath), bbox_inches='tight')\n",
    "plt.show()"
   ],
   "execution_count": 8,
   "outputs": []
  },
  {
   "metadata": {
    "ExecuteTime": {
     "end_time": "2025-01-13T13:26:12.459074Z",
     "start_time": "2025-01-13T13:26:12.318853Z"
    }
   },
   "cell_type": "code",
   "source": [
    "plt.figure(figsize=(5, 5))\n",
    "for i, model in enumerate(models):\n",
    "    plt.plot(range(epoch + pre_train), model_loss_mean[i], label=\"{}\".format(model), color=model_colors[model])\n",
    "    plt.fill_between(range(epoch + pre_train), model_loss_mean[i] - model_loss_std[i],\n",
    "                     model_loss_mean[i] + model_loss_std[i], alpha=0.1)\n",
    "    \n",
    "plt.legend(bbox_to_anchor=(1.35, 1), borderaxespad=0., title=\"Models\")\n",
    "plt.ylabel('Mean Absolute Prediction Error (MAE) (in meters)')\n",
    "# plt.ticklabel_format(axis='y', style='sci', scilimits=(0,0))\n",
    "plt.xlabel('Epoch')\n",
    "plt.savefig(\"{}/allseeds-loss.png\".format(plot_subpath), bbox_inches='tight')\n",
    "plt.show()"
   ],
   "execution_count": 9,
   "outputs": []
  },
  {
   "cell_type": "code",
   "source": [
    "# Task specific plots\n",
    "plt.figure(2)\n",
    "f, (ax1, ax2, ax3) = plt.subplots(1, 3, figsize=(15, 5))\n",
    "axes = [ax1, ax2, ax3]\n",
    "tasks_loss_mean = np.mean(task_losses_seeds, axis=0)\n",
    "tasks_loss_std = np.std(task_losses_seeds, axis=0)\n",
    "for i, task in enumerate(tasks):\n",
    "    for j, model in enumerate(models):\n",
    "        axes[i].plot(range(epoch + pre_train), tasks_loss_mean[j][i], label=\"{}\".format(model), color=model_colors[model])\n",
    "        axes[i].fill_between(range(epoch + pre_train), tasks_loss_mean[j][i] - tasks_loss_std[j][i],\n",
    "                             tasks_loss_mean[j][i] + tasks_loss_std[j][i], alpha=0.1)\n",
    "        if i == 0:\n",
    "            axes[i].set_ylabel('Mean Absolute Prediction Error (MAE) (in meters)')\n",
    "        if i == 1:\n",
    "            axes[i].set_xlabel('Epoch')\n",
    "\n",
    "for ax in axes:\n",
    "    ax.set_ylim([0.05, 0.75])\n",
    "\n",
    "plt.legend(bbox_to_anchor=(1.35, 1), borderaxespad=0., title=\"Models\")\n",
    "plt.tight_layout()\n",
    "plt.savefig(\"{}/task-losses.png\".format(plot_subpath), bbox_inches='tight')\n",
    "plt.show()"
   ],
   "metadata": {
    "id": "IywKri3dTp8N",
    "ExecuteTime": {
     "end_time": "2025-01-13T13:26:12.794876Z",
     "start_time": "2025-01-13T13:26:12.460111Z"
    }
   },
   "execution_count": 10,
   "outputs": []
  },
  {
   "metadata": {
    "ExecuteTime": {
     "end_time": "2025-01-13T13:26:13.051663Z",
     "start_time": "2025-01-13T13:26:12.795472Z"
    }
   },
   "cell_type": "code",
   "source": [
    "plt.figure(3)\n",
    "f, (ax4, ax5, ax6) = plt.subplots(1, 3, figsize=(15, 5))\n",
    "axes2 = [ax4, ax5, ax6]\n",
    "tasks_energy_mean = np.mean(task_energies_seeds, axis=0)\n",
    "tasks_energy_std = np.std(task_energies_seeds, axis=0)\n",
    "for i, task in enumerate(tasks):\n",
    "    for j, model in enumerate(models):\n",
    "        axes2[i].bar(model, tasks_energy_mean[j][i], width=0.4, label=\"{}\".format(model), color=model_colors[model])\n",
    "        axes2[i].errorbar(model, tasks_energy_mean[j][i], yerr=tasks_energy_std[j][i], fmt=\"o\", color=\"black\")\n",
    "        if i == 0:\n",
    "            axes2[i].set_ylabel('Total energy consumption (neuron activation)')\n",
    "        axes2[i].set_title('{} Task'.format(task))\n",
    "        axes2[i].set_xticks([])\n",
    "        axes2[i].set_ylim([0, 7000])\n",
    "        axes2[i].ticklabel_format(axis='y', style='sci', scilimits=(0,0))\n",
    "plt.legend(title=\"Models\", bbox_to_anchor=(1.4, 1), borderaxespad=0.)\n",
    "plt.savefig(\"{}/task-energies.png\".format(plot_subpath), bbox_inches='tight')\n",
    "plt.show()"
   ],
   "execution_count": 11,
   "outputs": []
  },
  {
   "metadata": {
    "ExecuteTime": {
     "end_time": "2025-01-13T13:26:13.053464Z",
     "start_time": "2025-01-13T13:26:13.052251Z"
    }
   },
   "cell_type": "code",
   "source": "",
   "execution_count": 11,
   "outputs": []
  },
  {
   "metadata": {},
   "cell_type": "markdown",
   "source": "network complexity comparison"
  },
  {
   "metadata": {
    "ExecuteTime": {
     "end_time": "2025-01-13T13:26:13.055482Z",
     "start_time": "2025-01-13T13:26:13.053785Z"
    }
   },
   "cell_type": "code",
   "source": "# model_loss_mean[:, 1000]",
   "execution_count": 12,
   "outputs": []
  },
  {
   "metadata": {
    "ExecuteTime": {
     "end_time": "2025-01-13T13:28:02.501366Z",
     "start_time": "2025-01-13T13:28:02.365792Z"
    }
   },
   "cell_type": "code",
   "source": [
    "# 4829 - 5713\n",
    "# 1813 - 1969\n",
    "# 833 - 817\n",
    "net_size = [r\"$0.8\\times 10^3$\", r\"$1\\times 10^3$\", r\"$5.2\\times 10^3$\"]  # x-axis labels\n",
    "models = ['singletask', 'imtl-rand', 'imtl-lp']  # Models\n",
    "losses = {  # Loss values for each model and hidden_dim\n",
    "    'singletask': [0.2762994, 0.16573773, 0.11201764],\n",
    "    'imtl-rand': [0.25452708, 0.16324828, 0.11192292],\n",
    "    'imtl-lp': [0.20950786, 0.13942777, 0.10889132],\n",
    "}\n",
    "\n",
    "# Bar properties\n",
    "bar_width = 0.3  # Width of each bar\n",
    "x = np.arange(len(net_size))  # Position of groups on x-axis\n",
    "\n",
    "# Create the plot\n",
    "plt.figure(figsize=(6, 6))\n",
    "\n",
    "for i, model in enumerate(models):\n",
    "    # Adjust position for each model\n",
    "    plt.bar(x + i * bar_width, losses[model], bar_width, color=model_colors[model], label=model)\n",
    "\n",
    "# Add labels, title, and legend\n",
    "plt.xlabel('Network size', fontsize=12)\n",
    "plt.ylabel('Mean Absolute Prediction Error (MAE) (in meters)', fontsize=12)\n",
    "plt.xticks(x + bar_width, net_size)  # Position x-axis ticks at the center of groups\n",
    "# plt.gca().xaxis.set_major_formatter(ScalarFormatter())\n",
    "# plt.ticklabel_format(axis='x', style='sci', scilimits=(0,0))\n",
    "plt.legend(bbox_to_anchor=(1.3, 1), borderaxespad=0., title=\"Models\")\n",
    "\n",
    "# Show plot\n",
    "# plt.tight_layout()\n",
    "plt.savefig(\"plotresults/network_complexity.png\", bbox_inches='tight')\n",
    "plt.show()\n"
   ],
   "execution_count": 14,
   "outputs": []
  },
  {
   "metadata": {
    "ExecuteTime": {
     "end_time": "2025-01-13T13:26:13.232278Z",
     "start_time": "2025-01-13T13:26:13.231056Z"
    }
   },
   "cell_type": "code",
   "source": "",
   "execution_count": 13,
   "outputs": []
  }
 ]
}
