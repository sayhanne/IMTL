{
 "cells": [
  {
   "cell_type": "code",
   "metadata": {
    "ExecuteTime": {
     "end_time": "2025-03-13T13:03:12.254517Z",
     "start_time": "2025-03-13T13:03:12.105767Z"
    }
   },
   "source": [
    "import matplotlib.pyplot as plt\n",
    "import matplotlib as mpl\n",
    "import numpy as np\n",
    "import os\n",
    "mpl.rcParams['savefig.dpi'] = 300"
   ],
   "outputs": [],
   "execution_count": 1
  },
  {
   "metadata": {
    "ExecuteTime": {
     "end_time": "2025-03-13T13:03:12.771255Z",
     "start_time": "2025-03-13T13:03:12.768883Z"
    }
   },
   "cell_type": "code",
   "source": [
    "pre_train = 10\n",
    "epoch = 3000\n",
    "path = 'results/totalenergy/'\n",
    "tasks = ['Push', 'Hit', 'Stack']\n",
    "#9d5783\n",
    "model_colors = {'singletask': '#888888', 'imtl-rand': '#009988',\n",
    "                'imtl-lp': '#cc3311', 'imtl-lpe-k1.2': '#ee3377',\n",
    "                'imtl-lpe-k1': '#33bbee',\n",
    "                'imtl-lpe-k0.7': '#0077bb', 'imtl-lpe-k0.4': '#ee7733'}\n",
    "legend_label = ['INTER-LP', 'INTER-LPE-K1.2', 'INTER-LPE-K1', 'INTER-LPE-K0.7', 'INTER-LPE-K0.4', 'SINGLE']\n",
    "# legend_label = [\"INTER-LPE-K=1.2\", \"INTER-LPE-K=1\", \"INTER-LPE-K=0.7\", \"SINGLE\"]\n",
    "models = ['imtl-lp', 'imtl-lpe-k1.2', 'imtl-lpe-k1', 'imtl-lpe-k0.7', 'imtl-lpe-k0.4', 'singletask']\n",
    "# models =  [\"imtl-lpe-k1.2\", \"imtl-lpe-k1\", \"imtl-lpe-k0.7\", 'singletask']\n",
    "plot_subpath = \"paperversionplot/energy-k\""
   ],
   "outputs": [],
   "execution_count": 2
  },
  {
   "cell_type": "code",
   "metadata": {
    "ExecuteTime": {
     "end_time": "2025-03-13T13:03:13.610166Z",
     "start_time": "2025-03-13T13:03:13.606914Z"
    }
   },
   "source": [
    "if not os.path.exists(plot_subpath):\n",
    "    os.makedirs(plot_subpath)"
   ],
   "outputs": [],
   "execution_count": 3
  },
  {
   "cell_type": "markdown",
   "metadata": {},
   "source": [
    "Lp - Ep plotting"
   ]
  },
  {
   "cell_type": "code",
   "metadata": {},
   "source": [
    "# seed = 0\n",
    "# model_name = \"lpe-k=1-seed-{}\".format(seed)\n",
    "# lp_history = np.load(f'{path}/lp-values-{model_name}.npy')\n",
    "# ep_history = np.load(f'{path}/ep-values-{model_name}.npy')\n",
    "# fig, ax = plt.subplots(1, 2, figsize=(10, 5))\n",
    "# ax[0].plot(lp_history[0], label='push')\n",
    "# ax[0].plot(lp_history[1], label='stack')\n",
    "# ax[0].plot(lp_history[2], label='hit')\n",
    "# ax[0].set_title('LP history')\n",
    "# ax[0].legend()\n",
    "#\n",
    "# ax[1].plot(ep_history[0], label='push')\n",
    "# ax[1].plot(ep_history[1], label='stack')\n",
    "# ax[1].plot(ep_history[2], label='hit')\n",
    "# ax[1].set_title('EP history')\n",
    "# ax[1].legend()\n",
    "# plt.show()"
   ],
   "outputs": [],
   "execution_count": null
  },
  {
   "cell_type": "code",
   "metadata": {
    "ExecuteTime": {
     "end_time": "2025-03-13T13:03:15.621374Z",
     "start_time": "2025-03-13T13:03:15.614530Z"
    }
   },
   "source": [
    "num_seeds = 10\n",
    "seeds = [8302, 2766,  257, 7600, 6657, 8226, 6841, 4908, 1321, 7857]\n",
    "task_losses_seeds = np.zeros((num_seeds, len(models), 3, epoch + pre_train))\n",
    "task_energies_seeds = np.zeros((num_seeds, len(models), 3))\n",
    "model_losses_seeds = np.zeros((num_seeds, len(models), epoch + pre_train))\n",
    "model_energies_seeds = np.zeros((num_seeds, len(models)))"
   ],
   "outputs": [],
   "execution_count": 4
  },
  {
   "cell_type": "code",
   "metadata": {
    "ExecuteTime": {
     "end_time": "2025-03-13T13:03:15.986828Z",
     "start_time": "2025-03-13T13:03:15.984451Z"
    }
   },
   "source": [
    "mode = 'train'"
   ],
   "outputs": [],
   "execution_count": 5
  },
  {
   "cell_type": "code",
   "metadata": {
    "ExecuteTime": {
     "end_time": "2025-03-13T13:03:16.343972Z",
     "start_time": "2025-03-13T13:03:16.334031Z"
    }
   },
   "source": [
    "# plt.figure(1)\n",
    "for s, seed in enumerate(seeds):\n",
    "  # f, (ax1, ax2) = plt.subplots(1, 2, figsize=(12, 6))\n",
    "  for i, model in enumerate(models):\n",
    "    loss_data = np.load('{}/plots/{}-loss-plot-seed-{}.npy'.format(path + model, mode, seed), allow_pickle=True)[:, :epoch + pre_train]\n",
    "    energy_data = np.load('{}/plots/{}-energy-bar-epoch-{}-seed-{}.npy'.format(path + model, mode, epoch, seed),\n",
    "                          allow_pickle=True)  # shape: task count\n",
    "    avg_task_loss = np.mean(loss_data, axis=0)\n",
    "    for j in range(3):  # number of tasks\n",
    "        task_losses_seeds[s][i][j] = loss_data[j]\n",
    "        task_energies_seeds[s][i][j] = energy_data[j] / 1e3\n",
    "    model_losses_seeds[s][i] = avg_task_loss\n",
    "    total_energy = np.sum(energy_data) / 1e3\n",
    "    model_energies_seeds[s][i] = total_energy\n",
    "\n",
    "#     ax1.plot(range(epoch + pre_train), avg_task_loss, label=\"{}\".format(model), color=model_colors[model])\n",
    "#     ax2.bar(model, total_energy, width=0.6, label=\"{}\".format(model), color=model_colors[model])\n",
    "#     ax1.legend()\n",
    "#     ax1.set_title('Avg task loss history - seed {}'.format(s))\n",
    "#     ax2.legend()\n",
    "#     ax2.set_title('Total energy consumption - seed {}'.format(s))\n",
    "# \n",
    "# plt.show()"
   ],
   "outputs": [],
   "execution_count": 6
  },
  {
   "cell_type": "code",
   "metadata": {
    "ExecuteTime": {
     "end_time": "2025-03-13T13:03:17.059774Z",
     "start_time": "2025-03-13T13:03:16.896065Z"
    }
   },
   "source": [
    "plt.figure(figsize=(5, 5))\n",
    "model_loss_mean = np.mean(model_losses_seeds, axis=0)\n",
    "model_loss_std = np.std(model_losses_seeds, axis=0)\n",
    "model_energy_mean = np.mean(model_energies_seeds, axis=0)\n",
    "model_energy_std = np.std(model_energies_seeds, axis=0)\n",
    "\n",
    "for i, model in enumerate(models):\n",
    "    plt.bar(model, model_energy_mean[i], width=0.6, label=\"{}\".format(legend_label[i]), color=model_colors[model], edgecolor=\"black\")\n",
    "    plt.errorbar(model, model_energy_mean[i], yerr=model_energy_std[i], fmt=\"o\", color=\"black\")\n",
    "\n",
    "plt.xticks([])\n",
    "plt.ylim([0, 20000])\n",
    "plt.ticklabel_format(axis='y', style='sci', scilimits=(0,0))\n",
    "plt.ylabel('Total energy consumption (neuron activation)')\n",
    "plt.legend(title='Models')\n",
    "plt.savefig(\"{}/allseeds-energy.png\".format(plot_subpath), bbox_inches='tight')\n",
    "plt.show()"
   ],
   "outputs": [
    {
     "data": {
      "text/plain": [
       "<Figure size 500x500 with 1 Axes>"
      ],
      "image/png": "[encoded data removed]"
     },
     "metadata": {},
     "output_type": "display_data"
    }
   ],
   "execution_count": 7
  },
  {
   "metadata": {
    "ExecuteTime": {
     "end_time": "2025-03-13T13:04:47.703486Z",
     "start_time": "2025-03-13T13:04:47.566128Z"
    }
   },
   "cell_type": "code",
   "source": [
    "plt.figure(figsize=(5, 5))\n",
    "for i, model in enumerate(models):\n",
    "    plt.bar(model, model_loss_mean[i][1500], width=0.6, label=\"{}\".format(legend_label[i]), color=model_colors[model], edgecolor=\"black\")\n",
    "    plt.errorbar(model, model_loss_mean[i][1500], yerr=model_loss_std[i][1000], fmt=\"o\", color=\"black\")\n",
    "\n",
    "plt.xticks([])\n",
    "plt.ylim([0, 0.5])\n",
    "# plt.ticklabel_format(axis='y', style='sci', scilimits=(0,0))\n",
    "plt.ylabel('Mean Absolute Prediction Error (MAE) (in meters)')\n",
    "plt.legend(title='Models')\n",
    "plt.savefig(\"{}/allseeds-loss-1000.png\".format(plot_subpath), bbox_inches='tight')\n",
    "plt.show()"
   ],
   "outputs": [
    {
     "data": {
      "text/plain": [
       "<Figure size 500x500 with 1 Axes>"
      ],
      "image/png": "[encoded data removed]"
     },
     "metadata": {},
     "output_type": "display_data"
    }
   ],
   "execution_count": 9
  },
  {
   "cell_type": "code",
   "metadata": {},
   "source": [
    "# plt.figure(figsize=(5, 5))\n",
    "# for i, model in enumerate(models):\n",
    "#     plt.plot(range(epoch + pre_train), model_loss_mean[i], label=\"{}\".format(legend_label[i]), color=model_colors[model], lw = 2.5)\n",
    "#     plt.fill_between(range(epoch + pre_train), model_loss_mean[i] - model_loss_std[i],\n",
    "#                      model_loss_mean[i] + model_loss_std[i], alpha=0.15, color=model_colors[model])\n",
    "#     \n",
    "# plt.legend(title=\"Models\")\n",
    "# plt.ylabel('Mean Absolute Prediction Error (MAE) (in meters)')\n",
    "# # plt.ticklabel_format(axis='y', style='sci', scilimits=(0,0))\n",
    "# plt.xlabel('Epoch')\n",
    "# plt.savefig(\"{}/allseeds-loss.png\".format(plot_subpath), bbox_inches='tight')\n",
    "# plt.show()"
   ],
   "outputs": [],
   "execution_count": null
  },
  {
   "metadata": {},
   "cell_type": "code",
   "source": "",
   "outputs": [],
   "execution_count": null
  },
  {
   "cell_type": "code",
   "metadata": {
    "id": "IywKri3dTp8N"
   },
   "source": [
    "# Task specific plots\n",
    "plt.figure(2)\n",
    "f, (ax1, ax2, ax3) = plt.subplots(1, 3, figsize=(15, 5))\n",
    "axes = [ax1, ax2, ax3]\n",
    "tasks_loss_mean = np.mean(task_losses_seeds, axis=0)\n",
    "tasks_loss_std = np.std(task_losses_seeds, axis=0)\n",
    "for i, task in enumerate(tasks):\n",
    "    for j, model in enumerate(models):\n",
    "        axes[i].plot(range(epoch + pre_train), tasks_loss_mean[j][i], label=\"{}\".format(legend_label[j]), color=model_colors[model], lw=2.5)\n",
    "        axes[i].fill_between(range(epoch + pre_train), tasks_loss_mean[j][i] - tasks_loss_std[j][i],\n",
    "                             tasks_loss_mean[j][i] + tasks_loss_std[j][i], alpha=0.2, color=model_colors[model])\n",
    "        if i == 0:\n",
    "            axes[i].set_ylabel('Mean Absolute Prediction Error (MAE) (in meters)')\n",
    "        if i == 1:\n",
    "            axes[i].set_xlabel('Epoch')\n",
    "        axes[i].legend(title=\"Models\")\n",
    "        axes[i].set_title('{} Task'.format(task))\n",
    "for ax in axes:\n",
    "    ax.set_ylim([0.05, 0.75])\n",
    "plt.savefig(\"{}/task-losses.png\".format(plot_subpath), bbox_inches='tight')\n",
    "plt.show()"
   ],
   "outputs": [],
   "execution_count": null
  },
  {
   "cell_type": "code",
   "metadata": {},
   "source": [
    "plt.figure(3)\n",
    "f, (ax4, ax5, ax6) = plt.subplots(1, 3, figsize=(15, 5))\n",
    "axes2 = [ax4, ax5, ax6]\n",
    "tasks_energy_mean = np.mean(task_energies_seeds, axis=0)\n",
    "tasks_energy_std = np.std(task_energies_seeds, axis=0)\n",
    "for i, task in enumerate(tasks):\n",
    "    for j, model in enumerate(models):\n",
    "        axes2[i].bar(model, tasks_energy_mean[j][i], width=0.6, label=\"{}\".format(legend_label[j]), color=model_colors[model], edgecolor=\"black\")\n",
    "        axes2[i].errorbar(model, tasks_energy_mean[j][i], yerr=tasks_energy_std[j][i], fmt=\"o\", color=\"black\")\n",
    "        if i == 0:\n",
    "            axes2[i].set_ylabel('Total energy consumption (neuron activation)')\n",
    "        axes2[i].set_title('{} Task'.format(task))\n",
    "        axes2[i].set_xticks([])\n",
    "        axes2[i].ticklabel_format(axis='y', style='sci', scilimits=(0,0))\n",
    "        axes2[i].set_ylim([0, 10000])\n",
    "        axes2[i].legend(title='Models')\n",
    "plt.savefig(\"{}/task-energies.png\".format(plot_subpath), bbox_inches='tight')\n",
    "plt.show()"
   ],
   "outputs": [],
   "execution_count": null
  },
  {
   "cell_type": "code",
   "metadata": {},
   "source": [],
   "outputs": [],
   "execution_count": null
  },
  {
   "cell_type": "markdown",
   "metadata": {},
   "source": [
    "network complexity comparison"
   ]
  },
  {
   "cell_type": "code",
   "metadata": {},
   "source": [
    "# 4829 - 5713\n",
    "# 1813 - 1969\n",
    "# 833 - 817\n",
    "# around 1000. epoch\n",
    "# net_size = [r\"~$0.8\\times 10^3$\", r\"~$2\\times 10^3$\", r\"~$5.2\\times 10^3$\"]  # x-axis labels\n",
    "# models = ['singletask', 'imtl-rand', 'imtl-lp']  # Models\n",
    "# losses = {  # Loss values for each model and hidden_dim\n",
    "#     'singletask': [0.2762994, 0.16573773, 0.11201764],\n",
    "#     'imtl-rand': [0.25452708, 0.16324828, 0.11192292],\n",
    "#     'imtl-lp': [0.20950786, 0.13942777, 0.10889132],\n",
    "# }\n",
    "# \n",
    "# # Bar properties\n",
    "# bar_width = 0.3  # Width of each bar\n",
    "# x = np.arange(len(net_size))  # Position of groups on x-axis\n",
    "# \n",
    "# # Create the plot\n",
    "# plt.figure(figsize=(6, 6))\n",
    "# \n",
    "# for i, model in enumerate(models):\n",
    "#     # Adjust position for each model\n",
    "#     plt.bar(x + i * bar_width, losses[model], bar_width, color=model_colors[model], label=legend_label[i], edgecolor=\"black\")\n",
    "# \n",
    "# # Add labels, title, and legend\n",
    "# plt.xlabel('Network size', fontsize=12)\n",
    "# plt.ylabel('Mean Absolute Prediction Error (MAE) (in meters)', fontsize=12)\n",
    "# plt.xticks(x + bar_width, net_size)  # Position x-axis ticks at the center of groups\n",
    "# # plt.gca().xaxis.set_major_formatter(ScalarFormatter())\n",
    "# # plt.ticklabel_format(axis='x', style='sci', scilimits=(0,0))\n",
    "# plt.legend(title=\"Models\")\n",
    "# \n",
    "# # Show plot\n",
    "# # plt.tight_layout()\n",
    "# plt.savefig(\"paperversionplot/network_complexity.png\", bbox_inches='tight')\n",
    "# plt.show()\n"
   ],
   "outputs": [],
   "execution_count": null
  },
  {
   "cell_type": "code",
   "metadata": {},
   "source": [],
   "outputs": [],
   "execution_count": null
  }
 ],
 "metadata": {
  "colab": {
   "provenance": []
  },
  "kernelspec": {
   "display_name": "Python 3 (ipykernel)",
   "language": "python",
   "name": "python3"
  },
  "language_info": {
   "codemirror_mode": {
    "name": "ipython",
    "version": 3
   },
   "file_extension": ".py",
   "mimetype": "text/x-python",
   "name": "python",
   "nbconvert_exporter": "python",
   "pygments_lexer": "ipython3",
   "version": "3.11.7"
  }
 },
 "nbformat": 4,
 "nbformat_minor": 4
}
